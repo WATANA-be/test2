{
 "cells": [
  {
   "cell_type": "code",
   "execution_count": 12,
   "metadata": {},
   "outputs": [
    {
     "name": "stdout",
     "output_type": "stream",
     "text": [
      "生年月日を入力0\n",
      "桁数が不正です。\n"
     ]
    }
   ],
   "source": [
    "def keta(n):\n",
    "    z=len(str(n))\n",
    "    if z!=8:\n",
    "        raise ValueError\n",
    "n=int(input('生年月日を入力'))\n",
    "try:\n",
    "    keta(n)\n",
    "    m=n//10000\n",
    "    old=2020-m\n",
    "    print('あなたは今年',old,'歳になります')\n",
    "except ValueError:\n",
    "    print('桁数が不正です。')"
   ]
  }
 ],
 "metadata": {
  "kernelspec": {
   "display_name": "Python 3",
   "language": "python",
   "name": "python3"
  },
  "language_info": {
   "codemirror_mode": {
    "name": "ipython",
    "version": 3
   },
   "file_extension": ".py",
   "mimetype": "text/x-python",
   "name": "python",
   "nbconvert_exporter": "python",
   "pygments_lexer": "ipython3",
   "version": "3.8.3"
  }
 },
 "nbformat": 4,
 "nbformat_minor": 4
}
